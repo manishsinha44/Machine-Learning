{
  "nbformat": 4,
  "nbformat_minor": 0,
  "metadata": {
    "colab": {
      "name": "AutoEncoder.ipynb",
      "provenance": [],
      "authorship_tag": "ABX9TyO9KQaXAcqRjNnxzejceUGl",
      "include_colab_link": true
    },
    "kernelspec": {
      "name": "python3",
      "display_name": "Python 3"
    },
    "language_info": {
      "name": "python"
    }
  },
  "cells": [
    {
      "cell_type": "markdown",
      "metadata": {
        "id": "view-in-github",
        "colab_type": "text"
      },
      "source": [
        "<a href=\"https://colab.research.google.com/github/manishsinha44/Machine-Learning/blob/main/AutoEncoder.ipynb\" target=\"_parent\"><img src=\"https://colab.research.google.com/assets/colab-badge.svg\" alt=\"Open In Colab\"/></a>"
      ]
    },
    {
      "cell_type": "markdown",
      "source": [
        "## Getting the data Movie Lens ML-100k"
      ],
      "metadata": {
        "id": "uZZMX0nrZC0_"
      }
    },
    {
      "cell_type": "code",
      "execution_count": 4,
      "metadata": {
        "colab": {
          "base_uri": "https://localhost:8080/"
        },
        "id": "NzTgVGZNYq0b",
        "outputId": "a716f1b6-0e32-40ed-ccd0-8b67095fe994"
      },
      "outputs": [
        {
          "output_type": "stream",
          "name": "stdout",
          "text": [
            "--2022-01-30 04:51:23--  http://files.grouplens.org/datasets/movielens/ml-100k.zip\n",
            "Resolving files.grouplens.org (files.grouplens.org)... 128.101.65.152\n",
            "Connecting to files.grouplens.org (files.grouplens.org)|128.101.65.152|:80... connected.\n",
            "HTTP request sent, awaiting response... 200 OK\n",
            "Length: 4924029 (4.7M) [application/zip]\n",
            "Saving to: ‘ml-100k.zip.3’\n",
            "\n",
            "ml-100k.zip.3       100%[===================>]   4.70M  27.3MB/s    in 0.2s    \n",
            "\n",
            "2022-01-30 04:51:23 (27.3 MB/s) - ‘ml-100k.zip.3’ saved [4924029/4924029]\n",
            "\n",
            "Archive:  ml-100k.zip\n",
            "   creating: ml-100k/\n",
            "  inflating: ml-100k/allbut.pl       \n",
            "   creating: __MACOSX/\n",
            "   creating: __MACOSX/ml-100k/\n",
            "  inflating: __MACOSX/ml-100k/._allbut.pl  \n",
            "  inflating: ml-100k/mku.sh          \n",
            "  inflating: __MACOSX/ml-100k/._mku.sh  \n",
            "  inflating: ml-100k/README          \n",
            "  inflating: __MACOSX/ml-100k/._README  \n",
            "  inflating: ml-100k/u.data          \n",
            "  inflating: __MACOSX/ml-100k/._u.data  \n",
            "  inflating: ml-100k/u.genre         \n",
            "  inflating: __MACOSX/ml-100k/._u.genre  \n",
            "  inflating: ml-100k/u.info          \n",
            "  inflating: __MACOSX/ml-100k/._u.info  \n",
            "  inflating: ml-100k/u.item          \n",
            "  inflating: __MACOSX/ml-100k/._u.item  \n",
            "  inflating: ml-100k/u.occupation    \n",
            "  inflating: __MACOSX/ml-100k/._u.occupation  \n",
            "  inflating: ml-100k/u.user          \n",
            "  inflating: __MACOSX/ml-100k/._u.user  \n",
            "  inflating: ml-100k/u1.base         \n",
            "  inflating: __MACOSX/ml-100k/._u1.base  \n",
            "  inflating: ml-100k/u1.test         \n",
            "  inflating: __MACOSX/ml-100k/._u1.test  \n",
            "  inflating: ml-100k/u2.base         \n",
            "  inflating: __MACOSX/ml-100k/._u2.base  \n",
            "  inflating: ml-100k/u2.test         \n",
            "  inflating: __MACOSX/ml-100k/._u2.test  \n",
            "  inflating: ml-100k/u3.base         \n",
            "  inflating: __MACOSX/ml-100k/._u3.base  \n",
            "  inflating: ml-100k/u3.test         \n",
            "  inflating: __MACOSX/ml-100k/._u3.test  \n",
            "  inflating: ml-100k/u4.base         \n",
            "  inflating: __MACOSX/ml-100k/._u4.base  \n",
            "  inflating: ml-100k/u4.test         \n",
            "  inflating: __MACOSX/ml-100k/._u4.test  \n",
            "  inflating: ml-100k/u5.base         \n",
            "  inflating: __MACOSX/ml-100k/._u5.base  \n",
            "  inflating: ml-100k/u5.test         \n",
            "  inflating: __MACOSX/ml-100k/._u5.test  \n",
            "  inflating: ml-100k/ua.base         \n",
            "  inflating: __MACOSX/ml-100k/._ua.base  \n",
            "  inflating: ml-100k/ua.test         \n",
            "  inflating: __MACOSX/ml-100k/._ua.test  \n",
            "  inflating: ml-100k/ub.base         \n",
            "  inflating: __MACOSX/ml-100k/._ub.base  \n",
            "  inflating: ml-100k/ub.test         \n",
            "  inflating: __MACOSX/ml-100k/._ub.test  \n",
            "  inflating: __MACOSX/._ml-100k      \n",
            "__MACOSX  ml-100k.zip\t ml-100k.zip.2\tml-1m.zip\n",
            "ml-100k   ml-100k.zip.1  ml-100k.zip.3\tsample_data\n"
          ]
        }
      ],
      "source": [
        "!wget \"http://files.grouplens.org/datasets/movielens/ml-100k.zip\"\n",
        "!unzip ml-100k.zip\n",
        "!ls"
      ]
    },
    {
      "cell_type": "markdown",
      "source": [
        "## Getting ML-1M dataset"
      ],
      "metadata": {
        "id": "ig7LUxRIav9e"
      }
    },
    {
      "cell_type": "code",
      "source": [
        "!wget \"http://files.grouplens.org/datasets/movielens/ml-1m.zip\"\n",
        "!unzip ml-1m.zip\n",
        "!ls"
      ],
      "metadata": {
        "colab": {
          "base_uri": "https://localhost:8080/"
        },
        "id": "Cb5c1ua6a0rH",
        "outputId": "08ed2f01-c140-4190-b3a4-c11b28317aed"
      },
      "execution_count": 5,
      "outputs": [
        {
          "output_type": "stream",
          "name": "stdout",
          "text": [
            "--2022-01-30 04:51:36--  http://files.grouplens.org/datasets/movielens/ml-1m.zip\n",
            "Resolving files.grouplens.org (files.grouplens.org)... 128.101.65.152\n",
            "Connecting to files.grouplens.org (files.grouplens.org)|128.101.65.152|:80... connected.\n",
            "HTTP request sent, awaiting response... 200 OK\n",
            "Length: 5917549 (5.6M) [application/zip]\n",
            "Saving to: ‘ml-1m.zip.1’\n",
            "\n",
            "ml-1m.zip.1         100%[===================>]   5.64M  31.2MB/s    in 0.2s    \n",
            "\n",
            "2022-01-30 04:51:37 (31.2 MB/s) - ‘ml-1m.zip.1’ saved [5917549/5917549]\n",
            "\n",
            "Archive:  ml-1m.zip\n",
            "  End-of-central-directory signature not found.  Either this file is not\n",
            "  a zipfile, or it constitutes one disk of a multi-part archive.  In the\n",
            "  latter case the central directory and zipfile comment will be found on\n",
            "  the last disk(s) of this archive.\n",
            "unzip:  cannot find zipfile directory in one of ml-1m.zip or\n",
            "        ml-1m.zip.zip, and cannot find ml-1m.zip.ZIP, period.\n",
            "__MACOSX  ml-100k.zip\t ml-100k.zip.2\tml-1m.zip    sample_data\n",
            "ml-100k   ml-100k.zip.1  ml-100k.zip.3\tml-1m.zip.1\n"
          ]
        }
      ]
    },
    {
      "cell_type": "markdown",
      "source": [
        "## Importing the Libraries"
      ],
      "metadata": {
        "id": "k8ibfPqzZNb7"
      }
    },
    {
      "cell_type": "code",
      "source": [
        "import numpy as np\n",
        "import pandas as pd\n",
        "import torch\n",
        "import torch.nn as nn\n",
        "import torch.nn.parallel\n",
        "import torch.optim as optim\n",
        "import torch.utils.data\n",
        "from torch.autograd import Variable"
      ],
      "metadata": {
        "id": "X93WA-FoZQ4m"
      },
      "execution_count": 6,
      "outputs": []
    },
    {
      "cell_type": "markdown",
      "source": [
        "## Preparing the training set and the test set"
      ],
      "metadata": {
        "id": "_HQY3-4AZ1_F"
      }
    },
    {
      "cell_type": "code",
      "source": [
        "training_set = pd.read_csv('ml-100k/u1.base', delimiter = '\\t')\n",
        "training_set = np.array(training_set, dtype = 'int') # Coverting to array to be used with Pytorch \n",
        "test_set = pd.read_csv('ml-100k/u1.test', delimiter = '\\t')\n",
        "test_set = np.array(test_set, dtype = 'int')"
      ],
      "metadata": {
        "id": "_Z2cTF0va-vX"
      },
      "execution_count": 7,
      "outputs": []
    },
    {
      "cell_type": "markdown",
      "source": [
        "## Getting the number of users and movies"
      ],
      "metadata": {
        "id": "v5SUd9t2bFcr"
      }
    },
    {
      "cell_type": "code",
      "source": [
        "# This is needed so that we can create a matrix of users and movies in rows and columns respectively\n",
        "nb_users = int(max(max(training_set[:, 0], ), max(test_set[:, 0])))\n",
        "nb_movies = int(max(max(training_set[:, 1], ), max(test_set[:, 1])))"
      ],
      "metadata": {
        "id": "uyhZqdd1b_DP"
      },
      "execution_count": 8,
      "outputs": []
    },
    {
      "cell_type": "code",
      "source": [
        "nb_movies"
      ],
      "metadata": {
        "colab": {
          "base_uri": "https://localhost:8080/"
        },
        "id": "qeGJQChKcEoR",
        "outputId": "fd1293dc-7855-4ebd-8869-762a2c77bd80"
      },
      "execution_count": 9,
      "outputs": [
        {
          "output_type": "execute_result",
          "data": {
            "text/plain": [
              "1682"
            ]
          },
          "metadata": {},
          "execution_count": 9
        }
      ]
    },
    {
      "cell_type": "code",
      "source": [
        "nb_users"
      ],
      "metadata": {
        "colab": {
          "base_uri": "https://localhost:8080/"
        },
        "id": "L3v_rEYRcGcl",
        "outputId": "7423b2d5-7eb1-4cf5-81a9-0efe11a916f2"
      },
      "execution_count": 10,
      "outputs": [
        {
          "output_type": "execute_result",
          "data": {
            "text/plain": [
              "943"
            ]
          },
          "metadata": {},
          "execution_count": 10
        }
      ]
    },
    {
      "cell_type": "markdown",
      "source": [
        "## Convert the data into a matrix/array with users in rows and movies in columns"
      ],
      "metadata": {
        "id": "3VbPTVUCcH1Q"
      }
    },
    {
      "cell_type": "code",
      "source": [
        "def convert(data):\n",
        "  new_data = []\n",
        "  for id_users in range(1, nb_users + 1):\n",
        "    id_movies = data[:, 1] [data[:, 0] == id_users]\n",
        "    id_ratings = data[:, 2] [data[:, 0] == id_users]\n",
        "    ratings = np.zeros(nb_movies)\n",
        "    ratings[id_movies - 1] = id_ratings\n",
        "    new_data.append(list(ratings))\n",
        "  return new_data\n",
        "training_set = convert(training_set)\n",
        "test_set = convert(test_set)"
      ],
      "metadata": {
        "id": "aEDcXQSCdbSk"
      },
      "execution_count": 11,
      "outputs": []
    },
    {
      "cell_type": "markdown",
      "source": [
        "## Converting data to Torch Sensors  "
      ],
      "metadata": {
        "id": "yuGv1L2Bdfiy"
      }
    },
    {
      "cell_type": "code",
      "source": [
        "training_set = torch.FloatTensor(training_set)\n",
        "test_set = torch.FloatTensor(test_set)"
      ],
      "metadata": {
        "id": "7EHJZGc9f33z"
      },
      "execution_count": 12,
      "outputs": []
    },
    {
      "cell_type": "markdown",
      "source": [
        "## Creating the architecture of the Neural Network"
      ],
      "metadata": {
        "id": "omfzAkucgR00"
      }
    },
    {
      "cell_type": "code",
      "source": [
        "class SAE(nn.Module):\n",
        "    def __init__(self, ):\n",
        "        super(SAE, self).__init__()\n",
        "        self.fc1 = nn.Linear(nb_movies, 20)\n",
        "        self.fc2 = nn.Linear(20, 10)\n",
        "        self.fc3 = nn.Linear(10, 20)\n",
        "        self.fc4 = nn.Linear(20, nb_movies)\n",
        "        self.activation = nn.Sigmoid()\n",
        "    def forward(self, x):\n",
        "        x = self.activation(self.fc1(x))\n",
        "        x = self.activation(self.fc2(x))\n",
        "        x = self.activation(self.fc3(x))\n",
        "        x = self.fc4(x)\n",
        "        return x\n",
        "sae = SAE()\n",
        "criterion = nn.MSELoss()\n",
        "optimizer = optim.RMSprop(sae.parameters(), lr = 0.01, weight_decay = 0.5)"
      ],
      "metadata": {
        "id": "YMkTrPCXg4v5"
      },
      "execution_count": 13,
      "outputs": []
    },
    {
      "cell_type": "markdown",
      "source": [
        "## Training the SAE"
      ],
      "metadata": {
        "id": "-mDHyI8qg9p7"
      }
    },
    {
      "cell_type": "code",
      "source": [
        "nb_epoch = 200\n",
        "for epoch in range(1, nb_epoch + 1):\n",
        "  train_loss = 0\n",
        "  s = 0.\n",
        "  for id_user in range(nb_users):\n",
        "    input = Variable(training_set[id_user]).unsqueeze(0)\n",
        "    target = input.clone()\n",
        "    if torch.sum(target.data > 0) > 0:\n",
        "      output = sae(input)\n",
        "      target.require_grad = False\n",
        "      output[target == 0] = 0\n",
        "      loss = criterion(output, target)\n",
        "      mean_corrector = nb_movies/float(torch.sum(target.data > 0) + 1e-10)\n",
        "      loss.backward()\n",
        "      train_loss += np.sqrt(loss.data*mean_corrector)\n",
        "      s += 1.\n",
        "      optimizer.step()\n",
        "  print('epoch: '+str(epoch)+'loss: '+ str(train_loss/s))"
      ],
      "metadata": {
        "colab": {
          "base_uri": "https://localhost:8080/"
        },
        "id": "nP2t5bbRhCvM",
        "outputId": "c100e08b-8592-4f94-992b-a19b08eeceaf"
      },
      "execution_count": 14,
      "outputs": [
        {
          "output_type": "stream",
          "name": "stdout",
          "text": [
            "epoch: 1loss: tensor(1.7710)\n",
            "epoch: 2loss: tensor(1.0967)\n",
            "epoch: 3loss: tensor(1.0533)\n",
            "epoch: 4loss: tensor(1.0383)\n",
            "epoch: 5loss: tensor(1.0309)\n",
            "epoch: 6loss: tensor(1.0264)\n",
            "epoch: 7loss: tensor(1.0240)\n",
            "epoch: 8loss: tensor(1.0222)\n",
            "epoch: 9loss: tensor(1.0208)\n",
            "epoch: 10loss: tensor(1.0197)\n",
            "epoch: 11loss: tensor(1.0190)\n",
            "epoch: 12loss: tensor(1.0185)\n",
            "epoch: 13loss: tensor(1.0178)\n",
            "epoch: 14loss: tensor(1.0175)\n",
            "epoch: 15loss: tensor(1.0175)\n",
            "epoch: 16loss: tensor(1.0168)\n",
            "epoch: 17loss: tensor(1.0169)\n",
            "epoch: 18loss: tensor(1.0163)\n",
            "epoch: 19loss: tensor(1.0165)\n",
            "epoch: 20loss: tensor(1.0163)\n",
            "epoch: 21loss: tensor(1.0161)\n",
            "epoch: 22loss: tensor(1.0161)\n",
            "epoch: 23loss: tensor(1.0160)\n",
            "epoch: 24loss: tensor(1.0157)\n",
            "epoch: 25loss: tensor(1.0159)\n",
            "epoch: 26loss: tensor(1.0155)\n",
            "epoch: 27loss: tensor(1.0155)\n",
            "epoch: 28loss: tensor(1.0150)\n",
            "epoch: 29loss: tensor(1.0126)\n",
            "epoch: 30loss: tensor(1.0122)\n",
            "epoch: 31loss: tensor(1.0094)\n",
            "epoch: 32loss: tensor(1.0097)\n",
            "epoch: 33loss: tensor(1.0055)\n",
            "epoch: 34loss: tensor(1.0055)\n",
            "epoch: 35loss: tensor(1.0011)\n",
            "epoch: 36loss: tensor(1.0001)\n",
            "epoch: 37loss: tensor(0.9980)\n",
            "epoch: 38loss: tensor(0.9994)\n",
            "epoch: 39loss: tensor(0.9955)\n",
            "epoch: 40loss: tensor(0.9944)\n",
            "epoch: 41loss: tensor(0.9929)\n",
            "epoch: 42loss: tensor(0.9923)\n",
            "epoch: 43loss: tensor(0.9898)\n",
            "epoch: 44loss: tensor(0.9900)\n",
            "epoch: 45loss: tensor(0.9882)\n",
            "epoch: 46loss: tensor(0.9873)\n",
            "epoch: 47loss: tensor(0.9823)\n",
            "epoch: 48loss: tensor(0.9853)\n",
            "epoch: 49loss: tensor(0.9782)\n",
            "epoch: 50loss: tensor(0.9758)\n",
            "epoch: 51loss: tensor(0.9723)\n",
            "epoch: 52loss: tensor(0.9738)\n",
            "epoch: 53loss: tensor(0.9708)\n",
            "epoch: 54loss: tensor(0.9715)\n",
            "epoch: 55loss: tensor(0.9679)\n",
            "epoch: 56loss: tensor(0.9670)\n",
            "epoch: 57loss: tensor(0.9663)\n",
            "epoch: 58loss: tensor(0.9726)\n",
            "epoch: 59loss: tensor(0.9733)\n",
            "epoch: 60loss: tensor(0.9753)\n",
            "epoch: 61loss: tensor(0.9712)\n",
            "epoch: 62loss: tensor(0.9710)\n",
            "epoch: 63loss: tensor(0.9683)\n",
            "epoch: 64loss: tensor(0.9643)\n",
            "epoch: 65loss: tensor(0.9654)\n",
            "epoch: 66loss: tensor(0.9754)\n",
            "epoch: 67loss: tensor(0.9756)\n",
            "epoch: 68loss: tensor(0.9692)\n",
            "epoch: 69loss: tensor(0.9633)\n",
            "epoch: 70loss: tensor(0.9622)\n",
            "epoch: 71loss: tensor(0.9652)\n",
            "epoch: 72loss: tensor(0.9687)\n",
            "epoch: 73loss: tensor(0.9657)\n",
            "epoch: 74loss: tensor(0.9634)\n",
            "epoch: 75loss: tensor(0.9662)\n",
            "epoch: 76loss: tensor(0.9648)\n",
            "epoch: 77loss: tensor(0.9647)\n",
            "epoch: 78loss: tensor(0.9599)\n",
            "epoch: 79loss: tensor(0.9607)\n",
            "epoch: 80loss: tensor(0.9605)\n",
            "epoch: 81loss: tensor(0.9594)\n",
            "epoch: 82loss: tensor(0.9590)\n",
            "epoch: 83loss: tensor(0.9553)\n",
            "epoch: 84loss: tensor(0.9550)\n",
            "epoch: 85loss: tensor(0.9529)\n",
            "epoch: 86loss: tensor(0.9517)\n",
            "epoch: 87loss: tensor(0.9505)\n",
            "epoch: 88loss: tensor(0.9537)\n",
            "epoch: 89loss: tensor(0.9525)\n",
            "epoch: 90loss: tensor(0.9518)\n",
            "epoch: 91loss: tensor(0.9488)\n",
            "epoch: 92loss: tensor(0.9505)\n",
            "epoch: 93loss: tensor(0.9476)\n",
            "epoch: 94loss: tensor(0.9482)\n",
            "epoch: 95loss: tensor(0.9452)\n",
            "epoch: 96loss: tensor(0.9464)\n",
            "epoch: 97loss: tensor(0.9442)\n",
            "epoch: 98loss: tensor(0.9461)\n",
            "epoch: 99loss: tensor(0.9469)\n",
            "epoch: 100loss: tensor(0.9471)\n",
            "epoch: 101loss: tensor(0.9458)\n",
            "epoch: 102loss: tensor(0.9456)\n",
            "epoch: 103loss: tensor(0.9451)\n",
            "epoch: 104loss: tensor(0.9454)\n",
            "epoch: 105loss: tensor(0.9437)\n",
            "epoch: 106loss: tensor(0.9437)\n",
            "epoch: 107loss: tensor(0.9431)\n",
            "epoch: 108loss: tensor(0.9433)\n",
            "epoch: 109loss: tensor(0.9426)\n",
            "epoch: 110loss: tensor(0.9419)\n",
            "epoch: 111loss: tensor(0.9415)\n",
            "epoch: 112loss: tensor(0.9415)\n",
            "epoch: 113loss: tensor(0.9441)\n",
            "epoch: 114loss: tensor(0.9544)\n",
            "epoch: 115loss: tensor(0.9493)\n",
            "epoch: 116loss: tensor(0.9514)\n",
            "epoch: 117loss: tensor(0.9488)\n",
            "epoch: 118loss: tensor(0.9478)\n",
            "epoch: 119loss: tensor(0.9447)\n",
            "epoch: 120loss: tensor(0.9451)\n",
            "epoch: 121loss: tensor(0.9472)\n",
            "epoch: 122loss: tensor(0.9436)\n",
            "epoch: 123loss: tensor(0.9411)\n",
            "epoch: 124loss: tensor(0.9422)\n",
            "epoch: 125loss: tensor(0.9418)\n",
            "epoch: 126loss: tensor(0.9412)\n",
            "epoch: 127loss: tensor(0.9386)\n",
            "epoch: 128loss: tensor(0.9393)\n",
            "epoch: 129loss: tensor(0.9380)\n",
            "epoch: 130loss: tensor(0.9372)\n",
            "epoch: 131loss: tensor(0.9362)\n",
            "epoch: 132loss: tensor(0.9366)\n",
            "epoch: 133loss: tensor(0.9354)\n",
            "epoch: 134loss: tensor(0.9360)\n",
            "epoch: 135loss: tensor(0.9341)\n",
            "epoch: 136loss: tensor(0.9353)\n",
            "epoch: 137loss: tensor(0.9373)\n",
            "epoch: 138loss: tensor(0.9351)\n",
            "epoch: 139loss: tensor(0.9324)\n",
            "epoch: 140loss: tensor(0.9356)\n",
            "epoch: 141loss: tensor(0.9319)\n",
            "epoch: 142loss: tensor(0.9319)\n",
            "epoch: 143loss: tensor(0.9312)\n",
            "epoch: 144loss: tensor(0.9324)\n",
            "epoch: 145loss: tensor(0.9307)\n",
            "epoch: 146loss: tensor(0.9311)\n",
            "epoch: 147loss: tensor(0.9300)\n",
            "epoch: 148loss: tensor(0.9305)\n",
            "epoch: 149loss: tensor(0.9295)\n",
            "epoch: 150loss: tensor(0.9297)\n",
            "epoch: 151loss: tensor(0.9288)\n",
            "epoch: 152loss: tensor(0.9295)\n",
            "epoch: 153loss: tensor(0.9281)\n",
            "epoch: 154loss: tensor(0.9287)\n",
            "epoch: 155loss: tensor(0.9278)\n",
            "epoch: 156loss: tensor(0.9273)\n",
            "epoch: 157loss: tensor(0.9271)\n",
            "epoch: 158loss: tensor(0.9275)\n",
            "epoch: 159loss: tensor(0.9266)\n",
            "epoch: 160loss: tensor(0.9269)\n",
            "epoch: 161loss: tensor(0.9264)\n",
            "epoch: 162loss: tensor(0.9267)\n",
            "epoch: 163loss: tensor(0.9262)\n",
            "epoch: 164loss: tensor(0.9262)\n",
            "epoch: 165loss: tensor(0.9256)\n",
            "epoch: 166loss: tensor(0.9295)\n",
            "epoch: 167loss: tensor(0.9255)\n",
            "epoch: 168loss: tensor(0.9255)\n",
            "epoch: 169loss: tensor(0.9241)\n",
            "epoch: 170loss: tensor(0.9238)\n",
            "epoch: 171loss: tensor(0.9235)\n",
            "epoch: 172loss: tensor(0.9242)\n",
            "epoch: 173loss: tensor(0.9236)\n",
            "epoch: 174loss: tensor(0.9242)\n",
            "epoch: 175loss: tensor(0.9232)\n",
            "epoch: 176loss: tensor(0.9230)\n",
            "epoch: 177loss: tensor(0.9226)\n",
            "epoch: 178loss: tensor(0.9226)\n",
            "epoch: 179loss: tensor(0.9223)\n",
            "epoch: 180loss: tensor(0.9222)\n",
            "epoch: 181loss: tensor(0.9226)\n",
            "epoch: 182loss: tensor(0.9230)\n",
            "epoch: 183loss: tensor(0.9214)\n",
            "epoch: 184loss: tensor(0.9219)\n",
            "epoch: 185loss: tensor(0.9212)\n",
            "epoch: 186loss: tensor(0.9218)\n",
            "epoch: 187loss: tensor(0.9208)\n",
            "epoch: 188loss: tensor(0.9202)\n",
            "epoch: 189loss: tensor(0.9202)\n",
            "epoch: 190loss: tensor(0.9202)\n",
            "epoch: 191loss: tensor(0.9198)\n",
            "epoch: 192loss: tensor(0.9202)\n",
            "epoch: 193loss: tensor(0.9201)\n",
            "epoch: 194loss: tensor(0.9191)\n",
            "epoch: 195loss: tensor(0.9189)\n",
            "epoch: 196loss: tensor(0.9187)\n",
            "epoch: 197loss: tensor(0.9187)\n",
            "epoch: 198loss: tensor(0.9199)\n",
            "epoch: 199loss: tensor(0.9178)\n",
            "epoch: 200loss: tensor(0.9207)\n"
          ]
        }
      ]
    },
    {
      "cell_type": "markdown",
      "source": [
        "## Testing the SAE"
      ],
      "metadata": {
        "id": "vjSlhxSYhDLA"
      }
    },
    {
      "cell_type": "code",
      "source": [
        "test_loss = 0\n",
        "s = 0.\n",
        "for id_user in range(nb_users):\n",
        "  input = Variable(training_set[id_user]).unsqueeze(0)\n",
        "  target = Variable(test_set[id_user]).unsqueeze(0)\n",
        "  if torch.sum(target.data > 0) > 0:\n",
        "    output = sae(input)\n",
        "    target.require_grad = False\n",
        "    output[target == 0] = 0\n",
        "    loss = criterion(output, target)\n",
        "    mean_corrector = nb_movies/float(torch.sum(target.data > 0) + 1e-10)\n",
        "    test_loss += np.sqrt(loss.data*mean_corrector)\n",
        "    s += 1.\n",
        "print('test loss: '+str(test_loss/s))"
      ],
      "metadata": {
        "id": "pYSrpEzQhU2v",
        "outputId": "39f8754b-5042-41eb-e476-31adf68072f5",
        "colab": {
          "base_uri": "https://localhost:8080/"
        }
      },
      "execution_count": 15,
      "outputs": [
        {
          "output_type": "stream",
          "name": "stdout",
          "text": [
            "test loss: tensor(0.9663)\n"
          ]
        }
      ]
    },
    {
      "cell_type": "code",
      "source": [
        ""
      ],
      "metadata": {
        "id": "AZdbxHfshVTI"
      },
      "execution_count": null,
      "outputs": []
    }
  ]
}